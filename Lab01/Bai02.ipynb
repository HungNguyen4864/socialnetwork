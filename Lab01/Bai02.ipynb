{
 "cells": [
  {
   "cell_type": "code",
   "execution_count": 2,
   "metadata": {},
   "outputs": [],
   "source": [
    "from selenium import webdriver\n",
    "from selenium.webdriver.common.by import By\n",
    "from selenium.webdriver.support.ui import WebDriverWait\n",
    "from selenium.webdriver.support import expected_conditions as EC\n",
    "import time\n",
    "import json\n",
    "import getpass\n",
    "from datetime import datetime\n",
    "import os"
   ]
  },
  {
   "cell_type": "code",
   "execution_count": null,
   "metadata": {},
   "outputs": [],
   "source": [
    "class FacebookGroupScraper:\n",
    "    def __init__(self):\n",
    "        print(\"\\n======Facebook group member scraper======\")\n",
    "        self.get_config()\n",
    "        self.setup_driver()\n",
    "    def get_config(self):\n",
    "        try:\n",
    "            print('Input your username:')\n",
    "            self.email = input(\"Email/Username: \").strip()\n",
    "            self.password = getpass.getpass(\"Password: \")\n",
    "            \n",
    "            print('\\n Input ID Group facebook:')\n",
    "            self.group_id = input(\"Group ID: \").strip()\n",
    "\n",
    "            print('\\nInput srcoll number:')\n",
    "            self.scroll_count = int(input(\"Scroll number (default 5): \") or \"5\")\n",
    "\n",
    "        except Exception as e:\n",
    "            print(f\"Error: {e}\")\n",
    "    \n",
    "    def setup_driver(self):\n",
    "        try:\n",
    "            self.driver = webdriver.Chrome()\n",
    "            self.driver.maximize_window()\n",
    "            # self.driver.get(\"https://www.facebook.com/\")\n",
    "            # self.driver.implicitly_wait(10)\n",
    "        except Exception as e:\n",
    "            print(f\"Error: {e}\")\n",
    "            pass"
   ]
  },
  {
   "cell_type": "code",
   "execution_count": 4,
   "metadata": {},
   "outputs": [
    {
     "name": "stdout",
     "output_type": "stream",
     "text": [
      "\n",
      "======Facebook group member scraper======\n",
      "Input your username:\n"
     ]
    },
    {
     "ename": "",
     "evalue": "",
     "output_type": "error",
     "traceback": [
      "\u001b[1;31mCannot execute code, session has been disposed. Please try restarting the Kernel."
     ]
    },
    {
     "ename": "",
     "evalue": "",
     "output_type": "error",
     "traceback": [
      "\u001b[1;31mCannot execute code, session has been disposed. Please try restarting the Kernel. \n",
      "\u001b[1;31mView Jupyter <a href='command:jupyter.viewOutput'>log</a> for further details."
     ]
    }
   ],
   "source": [
    "def main():\n",
    "    scraper = None\n",
    "    try:\n",
    "        scraper = FacebookGroupScraper()\n",
    "    except Exception as e:\n",
    "        pass\n",
    "\n",
    "main()"
   ]
  },
  {
   "cell_type": "code",
   "execution_count": null,
   "metadata": {},
   "outputs": [],
   "source": []
  }
 ],
 "metadata": {
  "kernelspec": {
   "display_name": "base",
   "language": "python",
   "name": "python3"
  },
  "language_info": {
   "codemirror_mode": {
    "name": "ipython",
    "version": 3
   },
   "file_extension": ".py",
   "mimetype": "text/x-python",
   "name": "python",
   "nbconvert_exporter": "python",
   "pygments_lexer": "ipython3",
   "version": "3.11.7"
  }
 },
 "nbformat": 4,
 "nbformat_minor": 2
}
