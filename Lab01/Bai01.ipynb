{
 "cells": [
  {
   "cell_type": "code",
   "execution_count": 77,
   "metadata": {},
   "outputs": [],
   "source": [
    "import facebook\n",
    "import json\n",
    "from datetime import datetime\n",
    "import time\n",
    "from collections import defaultdict\n",
    "import pandas as pd"
   ]
  },
  {
   "cell_type": "code",
   "execution_count": null,
   "metadata": {},
   "outputs": [],
   "source": [
    "import facebook\n",
    "import pandas as pd\n",
    "from datetime import datetime\n",
    "\n",
    "class FacebookCollector:\n",
    "    def __init__(self, access_token):\n",
    "        try:\n",
    "            self.access_token = access_token\n",
    "            self.graph = facebook.GraphAPI(access_token)\n",
    "        except Exception as e:\n",
    "            print(f\"Initialization Error: {e}\")\n",
    "\n",
    "    def check_token_validity(self):\n",
    "        try:\n",
    "            me = self.graph.get_object(\"me\", fields=\"id,name\")\n",
    "            print(\"Token is valid\")\n",
    "            return True\n",
    "        except Exception as e:\n",
    "            print(f\"Token is invalid: {e}\")\n",
    "            return False\n",
    "    \n",
    "    def collect_data(self, limit=5):\n",
    "        try:\n",
    "            fields = (\n",
    "                'id'\n",
    "                ',message'\n",
    "                ',comments.limit(100).summary(true)'\n",
    "                '{created_time,from{id,name},message,reactions}'\n",
    "                ',reactions.limit(100).summary(true)'\n",
    "                ',{id,type,name}'\n",
    "                ',share'\n",
    "                ',type'\n",
    "            )\n",
    "            posts = self.graph.get_object(\n",
    "                \"me/feed\"\n",
    "            )\n",
    "            for post in posts.get('data', []):\n",
    "                print('-----------------')\n",
    "                print(post.get('id'))\n",
    "                print(post.get('message'))\n",
    "                print(post.get('created_time'))\n",
    "                print('-----------------')\n",
    "            return posts\n",
    "        except Exception as e:\n",
    "            pass\n",
    "    def json_to_excel(self, data, excel_file=None):\n",
    "            posts = []\n",
    "            for post in data.get('data', []):\n",
    "                post_data = {\n",
    "                    'id': post['id'],\n",
    "                    'created_time': post.get('created_time', ''),\n",
    "                    'message':  post.get('message', '')\n",
    "                }\n",
    "                posts.append(post_data)\n",
    "            df = pd.DataFrame(posts)\n",
    "            df['created_time'] = pd.to_datetime(df['created_time'])\n",
    "            df['created_time'] = df['created_time'].dt.strftime('%Y-%m-%d %H:%M:%S')\n",
    "            if not excel_file:\n",
    "                timestamp = datetime.now().strftime('%Y%m%d%H%M%S')\n",
    "                excel_file = f'facebook_posts_{timestamp}.xlsx'\n",
    "            df.to_excel(excel_file, index=False)\n",
    "            print(f\"Data saved to {excel_file}\")\n",
    "            return excel_file"
   ]
  },
  {
   "cell_type": "code",
   "execution_count": 79,
   "metadata": {},
   "outputs": [],
   "source": [
    "def main():\n",
    "    access_token = 'EAAdLcrA39d4BO1B67RZAwaBAhlpTX9vnXCg1nuIfppdP61J4ZBAZCE7evZAr52c9ougLZBtOFJ2aaacevBXNowvYW3MJmzW54NsfKWun9w3eozRnm7sD9JwcA5DLoDEC8DtxZAuDgyVEy8VCgM2eJUvcVVrNgpmR3XZARm94BkohZAYHM1ZB2ytZBji05bbWu8GkCMw7x3Po7ePYIX2PbNSHBRVH22ZA5fV0gdx3dlGLB2UlbXNapAcgvBB83htKZAEggj8ZD'\n",
    "    collector = FacebookCollector(access_token)\n",
    "    if collector.check_token_validity():\n",
    "        data = collector.collect_data()\n",
    "        collector.json_to_excel(data)\n",
    "    else:\n",
    "        print(\"Token is invalid\")"
   ]
  },
  {
   "cell_type": "code",
   "execution_count": 80,
   "metadata": {},
   "outputs": [
    {
     "name": "stdout",
     "output_type": "stream",
     "text": [
      "Token is valid\n",
      "-----------------\n",
      "1671616510082008_1621350518441941\n",
      "None\n",
      "2024-09-14T02:49:41+0000\n",
      "-----------------\n",
      "-----------------\n",
      "1671616510082008_1583471825563144\n",
      "None\n",
      "2024-07-17T05:27:19+0000\n",
      "-----------------\n",
      "-----------------\n",
      "1671616510082008_1450857505491244\n",
      "None\n",
      "2023-11-28T15:08:35+0000\n",
      "-----------------\n",
      "-----------------\n",
      "1671616510082008_1425516168025378\n",
      "#RBPC2023 #EHERMES\n",
      "2023-10-10T16:39:27+0000\n",
      "-----------------\n",
      "-----------------\n",
      "1671616510082008_1417030732207255\n",
      "None\n",
      "2023-09-24T02:02:53+0000\n",
      "-----------------\n",
      "-----------------\n",
      "1671616510082008_1396175254292803\n",
      "None\n",
      "2023-08-12T01:40:41+0000\n",
      "-----------------\n",
      "-----------------\n",
      "1671616510082008_134540463789628\n",
      "Mày ám tau vừa thôi nhá\n",
      "2017-06-19T04:24:31+0000\n",
      "-----------------\n",
      "Data saved to facebook_posts_20241126090819.xlsx\n"
     ]
    }
   ],
   "source": [
    "main()"
   ]
  }
 ],
 "metadata": {
  "kernelspec": {
   "display_name": "base",
   "language": "python",
   "name": "python3"
  },
  "language_info": {
   "codemirror_mode": {
    "name": "ipython",
    "version": 3
   },
   "file_extension": ".py",
   "mimetype": "text/x-python",
   "name": "python",
   "nbconvert_exporter": "python",
   "pygments_lexer": "ipython3",
   "version": "3.11.7"
  }
 },
 "nbformat": 4,
 "nbformat_minor": 2
}
